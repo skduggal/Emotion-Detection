{
 "cells": [
  {
   "cell_type": "code",
   "execution_count": 1,
   "metadata": {},
   "outputs": [
    {
     "name": "stderr",
     "output_type": "stream",
     "text": [
      "<>:40: SyntaxWarning: invalid escape sequence '\\d'\n",
      "<>:41: SyntaxWarning: invalid escape sequence '\\d'\n",
      "<>:42: SyntaxWarning: invalid escape sequence '\\d'\n",
      "<>:40: SyntaxWarning: invalid escape sequence '\\d'\n",
      "<>:41: SyntaxWarning: invalid escape sequence '\\d'\n",
      "<>:42: SyntaxWarning: invalid escape sequence '\\d'\n",
      "/var/folders/61/fmmdx5z91s9_81y4wxnb3bdm0000gn/T/ipykernel_1007/3432323194.py:40: SyntaxWarning: invalid escape sequence '\\d'\n",
      "  sms = re.sub('_\\d\\d\\d', '', sms)\n",
      "/var/folders/61/fmmdx5z91s9_81y4wxnb3bdm0000gn/T/ipykernel_1007/3432323194.py:41: SyntaxWarning: invalid escape sequence '\\d'\n",
      "  sms = re.sub('_\\d\\d', '', sms)\n",
      "/var/folders/61/fmmdx5z91s9_81y4wxnb3bdm0000gn/T/ipykernel_1007/3432323194.py:42: SyntaxWarning: invalid escape sequence '\\d'\n",
      "  sms = re.sub('_\\d', '', sms)\n"
     ]
    },
    {
     "name": "stdout",
     "output_type": "stream",
     "text": [
      "Data Downloaded!\n"
     ]
    }
   ],
   "source": [
    "import cv2\n",
    "import dlib\n",
    "import pickle\n",
    "import warnings\n",
    "import numpy as np\n",
    "import pandas as pd\n",
    "import seaborn as sns\n",
    "import urllib.request\n",
    "\n",
    "from sklearn import metrics\n",
    "from scipy.spatial import distance\n",
    "from sklearn.metrics import accuracy_score\n",
    "from matplotlib import pyplot as plt\n",
    "from tqdm import tqdm, tqdm_pandas\n",
    "from sklearn.preprocessing import StandardScaler\n",
    "from sklearn.model_selection import train_test_split\n",
    "\n",
    "import re\n",
    "import gdown\n",
    "import keras\n",
    "\n",
    "from keras.models import Sequential\n",
    "from keras.utils import to_categorical\n",
    "from keras.optimizers import Adam\n",
    "from keras.layers import Dense, Dropout, Activation, Flatten\n",
    "from keras.layers import Conv2D, MaxPooling2D, BatchNormalization\n",
    "from keras.losses import categorical_crossentropy\n",
    "from keras.callbacks import EarlyStopping, ModelCheckpoint\n",
    "from keras.models import load_model\n",
    "\n",
    "import tensorflow as tf\n",
    "\n",
    "warnings.filterwarnings(\"ignore\")\n",
    "\n",
    "def model_to_string(model):\n",
    "    import re\n",
    "    stringlist = []\n",
    "    model.summary(print_fn=lambda x: stringlist.append(x))\n",
    "    sms = \"\\n\".join(stringlist)\n",
    "    sms = re.sub('_\\d\\d\\d', '', sms)\n",
    "    sms = re.sub('_\\d\\d', '', sms)\n",
    "    sms = re.sub('_\\d', '', sms)\n",
    "    return sms\n",
    "\n",
    "# Getting the csv data loaded\n",
    "dataset_url = 'https://drive.google.com/uc?id=1xFiYsULlQWWmi2Ai0fHjtApniP5Pscuf'\n",
    "dataset_path = './ferdata.csv'\n",
    "gdown.download(dataset_url, dataset_path, True)\n",
    "\n",
    "# Getting the Dlib Shape predictor!\n",
    "dlibshape_url = 'https://drive.google.com/uc?id=17D3D89Gke6i5nKOvmsbPslrGg5rVgOwg'\n",
    "dlibshape_path = './shape_predictor_68_face_landmarks.dat'\n",
    "gdown.download(dlibshape_url, dlibshape_path, True)\n",
    "\n",
    "# Getting the Xpure loaded\n",
    "pureX_url = 'https://drive.google.com/uc?id=1CglpXodenZVrkaZehLtfykfQv8dcnfO9'\n",
    "pureX_path = './pureX.npy'\n",
    "gdown.download(pureX_url, pureX_path, True)\n",
    "\n",
    "# Getting the Xdata loaded\n",
    "dataX_url = 'https://drive.google.com/uc?id=1sIJGxUM6rNBcWxucs6iynDepeKU1Q56p'\n",
    "dataX_path = './dataX.npy'\n",
    "gdown.download(dataX_url, dataX_path, True)\n",
    "\n",
    "# Getting the Ydata loaded\n",
    "dataY_url = 'https://drive.google.com/uc?id=1Rfr0OP-hZO_UZfuOyMNR2RjNRAro85zE'\n",
    "dataY_path = './dataY.npy'\n",
    "gdown.download(dataY_url, dataY_path, True)\n",
    "\n",
    "print(\"Data Downloaded!\")\n",
    "\n",
    "def plot_confusion_matrix(y_true, y_predicted):\n",
    "    cm = metrics.confusion_matrix(y_true, y_predicted)\n",
    "    print(\"Plotting the Confusion Matrix\")\n",
    "    labels = list(label_map.values())\n",
    "    df_cm = pd.DataFrame(cm, index=labels, columns=labels)\n",
    "    fig = plt.figure()\n",
    "    res = sns.heatmap(df_cm, annot=True, cmap='Blues', fmt='g')\n",
    "    plt.yticks([0.5, 1.5, 2.5, 3.5, 4.5], labels, va='center')\n",
    "    plt.title('Confusion Matrix - TestData')\n",
    "    plt.ylabel('True label')\n",
    "    plt.xlabel('Predicted label')\n",
    "    plt.show()\n",
    "    plt.close()\n",
    "\n",
    "def plot_graphs(history, best):\n",
    "    plt.figure(figsize=[10, 4])\n",
    "    # summarize history for accuracy\n",
    "    plt.subplot(121)\n",
    "    plt.plot(history.history['accuracy'])\n",
    "    plt.plot(history.history['val_accuracy'])\n",
    "    plt.title('model accuracy across training\\n best accuracy of %.02f' % best[1])\n",
    "    plt.ylabel('accuracy')\n",
    "    plt.xlabel('epoch')\n",
    "    plt.legend(['train', 'test'], loc='upper left')\n",
    "\n",
    "    # summarize history for loss\n",
    "    plt.subplot(122)\n",
    "    plt.plot(history.history['loss'])\n",
    "    plt.plot(history.history['val_loss'])\n",
    "    plt.title('model loss across training\\n best loss of %.02f' % best[0])\n",
    "    plt.ylabel('loss')\n",
    "    plt.xlabel('epoch')\n",
    "    plt.legend(['train', 'test'], loc='upper left')\n",
    "    plt.show()\n",
    "\n",
    "# Integer to Label Mapping\n",
    "label_map = {0: \"ANGRY\", 1: \"HAPPY\", 2: \"SAD\", 3: \"SURPRISE\", 4: \"NEUTRAL\"}\n",
    "\n",
    "# Load the 68 face Landmark file\n",
    "predictor = dlib.shape_predictor('./shape_predictor_68_face_landmarks.dat')\n",
    "\n",
    "def get_landmarks(image):\n",
    "    rects = [dlib.rectangle(left=1, top=1, right=47, bottom=47)]\n",
    "    landmarks = [(p.x, p.y) for p in predictor(image, rects[0]).parts()]\n",
    "    return image, landmarks\n",
    "\n",
    "def image_landmarks(image, face_landmarks):\n",
    "    radius = -4\n",
    "    circle_thickness = 1\n",
    "    image_copy = image.copy()\n",
    "    for (x, y) in face_landmarks:\n",
    "        cv2.circle(image_copy, (x, y), circle_thickness, (255, 0, 0), radius)\n",
    "\n",
    "    plt.imshow(image_copy, interpolation='nearest')\n",
    "    plt.show()\n",
    "\n",
    "def landmarks_edist(face_landmarks):\n",
    "    e_dist = []\n",
    "    for i in range(len(face_landmarks)):\n",
    "        for j in range(len(face_landmarks)):\n",
    "            if i != j:\n",
    "                e_dist.append(distance.euclidean(face_landmarks[i], face_landmarks[j]))\n",
    "    return e_dist\n",
    "\n",
    "def compare_learning(mlp, lm, cnn, vgg):\n",
    "    plt.plot(vgg.history['val_accuracy'])\n",
    "    plt.plot(cnn.history['val_accuracy'])\n",
    "    plt.plot(mlp.history['val_accuracy'])\n",
    "    plt.plot(lm.history['val_accuracy'])\n",
    "    plt.ylabel('validation accuracy')\n",
    "    plt.xlabel('epoch')\n",
    "    plt.legend(['cnn_transfer', 'cnn_scratch', 'mlp_pixels', 'mlp_landmarks'], bbox_to_anchor=[1, 1])\n",
    "    plt.xticks(range(0, epochs + 1, 5), range(0, epochs + 1, 5))\n",
    "    plt.show()\n"
   ]
  },
  {
   "cell_type": "code",
   "execution_count": 2,
   "metadata": {},
   "outputs": [],
   "source": [
    "# training related  \n",
    "epochs, batch_size = 20, 64\n",
    "# testing related\n",
    "test_ratio = .1\n",
    "# categories to predict \n",
    "n_emotion_labels = 5 \n",
    "# shape of images \n",
    "width, height = 48, 48"
   ]
  },
  {
   "cell_type": "code",
   "execution_count": 3,
   "metadata": {},
   "outputs": [],
   "source": [
    "# load data \n",
    "dataX_pixels = np.load('pureX.npy')\n",
    "dataY_pixels = np.load('dataY.npy')"
   ]
  },
  {
   "cell_type": "code",
   "execution_count": 4,
   "metadata": {},
   "outputs": [],
   "source": [
    "# we'll use the same epochs and batch size as above\n",
    "# convert labels to one hot encoding\n",
    "y_onehot = keras.utils.to_categorical(dataY_pixels, len(set(dataY_pixels)))"
   ]
  },
  {
   "cell_type": "code",
   "execution_count": 5,
   "metadata": {},
   "outputs": [],
   "source": [
    "# split Data into Train, Test (90-10)\n",
    "X_train, X_test, y_train, y_test = train_test_split(dataX_pixels, y_onehot, test_size=test_ratio, random_state=42)"
   ]
  },
  {
   "cell_type": "code",
   "execution_count": 6,
   "metadata": {},
   "outputs": [],
   "source": [
    "pixel_scaler = StandardScaler()\n",
    "pixel_scaler.fit(X_train)\n",
    "X_train = pixel_scaler.transform(X_train)\n",
    "X_test = pixel_scaler.transform(X_test)"
   ]
  },
  {
   "cell_type": "code",
   "execution_count": 7,
   "metadata": {},
   "outputs": [
    {
     "name": "stdout",
     "output_type": "stream",
     "text": [
      "(18000, 2304)\n"
     ]
    }
   ],
   "source": [
    "# pixels were vectors\n",
    "print(X_train.shape) "
   ]
  },
  {
   "cell_type": "code",
   "execution_count": 8,
   "metadata": {},
   "outputs": [
    {
     "name": "stdout",
     "output_type": "stream",
     "text": [
      "(18000, 48, 48)\n"
     ]
    }
   ],
   "source": [
    "X_train_cnn = X_train.reshape(len(X_train), height, width)\n",
    "X_test_cnn = X_test.reshape(len(X_test), height, width)\n",
    "print(X_train_cnn.shape)"
   ]
  },
  {
   "cell_type": "code",
   "execution_count": 9,
   "metadata": {},
   "outputs": [
    {
     "name": "stdout",
     "output_type": "stream",
     "text": [
      "(18000, 48, 48, 1)\n"
     ]
    }
   ],
   "source": [
    "X_train_cnn = np.expand_dims(X_train_cnn, 3)\n",
    "X_test_cnn = np.expand_dims(X_test_cnn, 3)\n",
    "print(X_train_cnn.shape)"
   ]
  },
  {
   "cell_type": "code",
   "execution_count": 10,
   "metadata": {},
   "outputs": [],
   "source": [
    "n_labels = len(label_map)  # Define the number of labels correctly\n",
    "\n",
    "cnn_model = Sequential() # initialize model\n",
    "# this conv layer has 64 filters! the input shape needs to be the same dimensions of the image\n",
    "cnn_model.add(Conv2D(64, kernel_size=(3, 3), activation='relu', input_shape=(width, height, 1)))\n",
    "# batch normalization \n",
    "cnn_model.add(BatchNormalization())\n",
    "# max pooling\n",
    "cnn_model.add(MaxPooling2D(pool_size=(2, 2), strides=(2, 2)))\n",
    "# dropout\n",
    "cnn_model.add(Dropout(0.5))\n",
    "# flatten all the outputs between convolutional and dense layers\n",
    "cnn_model.add(Flatten())\n",
    "# add a \"dense layer\" (i.e. the fully connected layers in MLPs) with dropout\n",
    "cnn_model.add(Dense(512, activation='relu'))\n",
    "# output layer\n",
    "cnn_model.add(Dense(n_labels, activation='softmax'))"
   ]
  },
  {
   "cell_type": "code",
   "execution_count": 11,
   "metadata": {},
   "outputs": [],
   "source": [
    "from keras.regularizers import l2\n",
    "cnn_model = Sequential()\n",
    "\n",
    "cnn_model.add(Conv2D(64, kernel_size=(3, 3), activation='relu', input_shape=(width, height, 1), kernel_regularizer=l2(0.01)))\n",
    "cnn_model.add(Conv2D(64, kernel_size=(3, 3), activation='relu', padding='same'))\n",
    "cnn_model.add(BatchNormalization())\n",
    "cnn_model.add(MaxPooling2D(pool_size=(2, 2), strides=(2, 2)))\n",
    "cnn_model.add(Dropout(0.5))\n",
    "\n",
    "cnn_model.add(Conv2D(128, kernel_size=(3, 3), activation='relu', padding='same'))\n",
    "cnn_model.add(BatchNormalization())\n",
    "cnn_model.add(Conv2D(128, kernel_size=(3, 3), activation='relu', padding='same'))\n",
    "cnn_model.add(BatchNormalization())\n",
    "cnn_model.add(MaxPooling2D(pool_size=(2, 2), strides=(2, 2)))\n",
    "cnn_model.add(Dropout(0.5))\n",
    "\n",
    "cnn_model.add(Conv2D(256, kernel_size=(3, 3), activation='relu', padding='same'))\n",
    "cnn_model.add(BatchNormalization())\n",
    "cnn_model.add(Conv2D(256, kernel_size=(3, 3), activation='relu', padding='same'))\n",
    "cnn_model.add(BatchNormalization())\n",
    "cnn_model.add(MaxPooling2D(pool_size=(2, 2), strides=(2, 2)))\n",
    "cnn_model.add(Dropout(0.5))\n",
    "\n",
    "cnn_model.add(Conv2D(512, kernel_size=(3, 3), activation='relu', padding='same'))\n",
    "cnn_model.add(BatchNormalization())\n",
    "cnn_model.add(Conv2D(512, kernel_size=(3, 3), activation='relu', padding='same'))\n",
    "cnn_model.add(BatchNormalization())\n",
    "cnn_model.add(MaxPooling2D(pool_size=(2, 2), strides=(2, 2)))\n",
    "cnn_model.add(Dropout(0.5))\n",
    "\n",
    "cnn_model.add(Flatten())\n",
    "\n",
    "cnn_model.add(Dense(512, activation='relu'))\n",
    "cnn_model.add(Dropout(0.4))\n",
    "cnn_model.add(Dense(256, activation='relu'))\n",
    "cnn_model.add(Dropout(0.4))\n",
    "cnn_model.add(Dense(128, activation='relu'))\n",
    "cnn_model.add(Dropout(0.5))\n",
    "cnn_model.add(Dense(n_labels, activation='softmax'))"
   ]
  },
  {
   "cell_type": "code",
   "execution_count": 12,
   "metadata": {},
   "outputs": [
    {
     "name": "stdout",
     "output_type": "stream",
     "text": [
      "Epoch 1/20\n",
      "\u001b[1m282/282\u001b[0m \u001b[32m━━━━━━━━━━━━━━━━━━━━\u001b[0m\u001b[37m\u001b[0m \u001b[1m0s\u001b[0m 516ms/step - accuracy: 0.2115 - loss: 2.2381\n",
      "Epoch 1: val_loss improved from inf to 1.62035, saving model to best_cnn_model.keras\n",
      "\u001b[1m282/282\u001b[0m \u001b[32m━━━━━━━━━━━━━━━━━━━━\u001b[0m\u001b[37m\u001b[0m \u001b[1m152s\u001b[0m 531ms/step - accuracy: 0.2115 - loss: 2.2367 - val_accuracy: 0.2120 - val_loss: 1.6203\n",
      "Epoch 2/20\n",
      "\u001b[1m282/282\u001b[0m \u001b[32m━━━━━━━━━━━━━━━━━━━━\u001b[0m\u001b[37m\u001b[0m \u001b[1m0s\u001b[0m 532ms/step - accuracy: 0.2443 - loss: 1.6256\n",
      "Epoch 2: val_loss did not improve from 1.62035\n",
      "\u001b[1m282/282\u001b[0m \u001b[32m━━━━━━━━━━━━━━━━━━━━\u001b[0m\u001b[37m\u001b[0m \u001b[1m154s\u001b[0m 547ms/step - accuracy: 0.2443 - loss: 1.6255 - val_accuracy: 0.2145 - val_loss: 1.6238\n",
      "Epoch 3/20\n",
      "\u001b[1m282/282\u001b[0m \u001b[32m━━━━━━━━━━━━━━━━━━━━\u001b[0m\u001b[37m\u001b[0m \u001b[1m0s\u001b[0m 544ms/step - accuracy: 0.2808 - loss: 1.5673\n",
      "Epoch 3: val_loss improved from 1.62035 to 1.46272, saving model to best_cnn_model.keras\n",
      "\u001b[1m282/282\u001b[0m \u001b[32m━━━━━━━━━━━━━━━━━━━━\u001b[0m\u001b[37m\u001b[0m \u001b[1m157s\u001b[0m 558ms/step - accuracy: 0.2809 - loss: 1.5672 - val_accuracy: 0.3090 - val_loss: 1.4627\n",
      "Epoch 4/20\n",
      "\u001b[1m282/282\u001b[0m \u001b[32m━━━━━━━━━━━━━━━━━━━━\u001b[0m\u001b[37m\u001b[0m \u001b[1m0s\u001b[0m 532ms/step - accuracy: 0.3324 - loss: 1.4699\n",
      "Epoch 4: val_loss improved from 1.46272 to 1.38772, saving model to best_cnn_model.keras\n",
      "\u001b[1m282/282\u001b[0m \u001b[32m━━━━━━━━━━━━━━━━━━━━\u001b[0m\u001b[37m\u001b[0m \u001b[1m154s\u001b[0m 547ms/step - accuracy: 0.3325 - loss: 1.4699 - val_accuracy: 0.3715 - val_loss: 1.3877\n",
      "Epoch 5/20\n",
      "\u001b[1m282/282\u001b[0m \u001b[32m━━━━━━━━━━━━━━━━━━━━\u001b[0m\u001b[37m\u001b[0m \u001b[1m0s\u001b[0m 2s/step - accuracy: 0.3877 - loss: 1.3965\n",
      "Epoch 5: val_loss did not improve from 1.38772\n",
      "\u001b[1m282/282\u001b[0m \u001b[32m━━━━━━━━━━━━━━━━━━━━\u001b[0m\u001b[37m\u001b[0m \u001b[1m500s\u001b[0m 2s/step - accuracy: 0.3877 - loss: 1.3965 - val_accuracy: 0.3775 - val_loss: 1.4104\n",
      "Epoch 6/20\n",
      "\u001b[1m282/282\u001b[0m \u001b[32m━━━━━━━━━━━━━━━━━━━━\u001b[0m\u001b[37m\u001b[0m \u001b[1m0s\u001b[0m 538ms/step - accuracy: 0.4246 - loss: 1.3239\n",
      "Epoch 6: val_loss improved from 1.38772 to 1.30006, saving model to best_cnn_model.keras\n",
      "\u001b[1m282/282\u001b[0m \u001b[32m━━━━━━━━━━━━━━━━━━━━\u001b[0m\u001b[37m\u001b[0m \u001b[1m156s\u001b[0m 552ms/step - accuracy: 0.4246 - loss: 1.3238 - val_accuracy: 0.4235 - val_loss: 1.3001\n",
      "Epoch 7/20\n",
      "\u001b[1m282/282\u001b[0m \u001b[32m━━━━━━━━━━━━━━━━━━━━\u001b[0m\u001b[37m\u001b[0m \u001b[1m0s\u001b[0m 535ms/step - accuracy: 0.4496 - loss: 1.2643\n",
      "Epoch 7: val_loss improved from 1.30006 to 1.16337, saving model to best_cnn_model.keras\n",
      "\u001b[1m282/282\u001b[0m \u001b[32m━━━━━━━━━━━━━━━━━━━━\u001b[0m\u001b[37m\u001b[0m \u001b[1m155s\u001b[0m 548ms/step - accuracy: 0.4497 - loss: 1.2643 - val_accuracy: 0.4960 - val_loss: 1.1634\n",
      "Epoch 8/20\n",
      "\u001b[1m282/282\u001b[0m \u001b[32m━━━━━━━━━━━━━━━━━━━━\u001b[0m\u001b[37m\u001b[0m \u001b[1m0s\u001b[0m 537ms/step - accuracy: 0.4849 - loss: 1.2267\n",
      "Epoch 8: val_loss improved from 1.16337 to 1.11413, saving model to best_cnn_model.keras\n",
      "\u001b[1m282/282\u001b[0m \u001b[32m━━━━━━━━━━━━━━━━━━━━\u001b[0m\u001b[37m\u001b[0m \u001b[1m155s\u001b[0m 551ms/step - accuracy: 0.4849 - loss: 1.2266 - val_accuracy: 0.5315 - val_loss: 1.1141\n",
      "Epoch 9/20\n",
      "\u001b[1m282/282\u001b[0m \u001b[32m━━━━━━━━━━━━━━━━━━━━\u001b[0m\u001b[37m\u001b[0m \u001b[1m0s\u001b[0m 533ms/step - accuracy: 0.5362 - loss: 1.1568\n",
      "Epoch 9: val_loss improved from 1.11413 to 1.10372, saving model to best_cnn_model.keras\n",
      "\u001b[1m282/282\u001b[0m \u001b[32m━━━━━━━━━━━━━━━━━━━━\u001b[0m\u001b[37m\u001b[0m \u001b[1m154s\u001b[0m 547ms/step - accuracy: 0.5362 - loss: 1.1568 - val_accuracy: 0.5490 - val_loss: 1.1037\n",
      "Epoch 10/20\n",
      "\u001b[1m282/282\u001b[0m \u001b[32m━━━━━━━━━━━━━━━━━━━━\u001b[0m\u001b[37m\u001b[0m \u001b[1m0s\u001b[0m 537ms/step - accuracy: 0.5664 - loss: 1.0970\n",
      "Epoch 10: val_loss improved from 1.10372 to 1.10322, saving model to best_cnn_model.keras\n",
      "\u001b[1m282/282\u001b[0m \u001b[32m━━━━━━━━━━━━━━━━━━━━\u001b[0m\u001b[37m\u001b[0m \u001b[1m155s\u001b[0m 550ms/step - accuracy: 0.5664 - loss: 1.0971 - val_accuracy: 0.5570 - val_loss: 1.1032\n",
      "Epoch 11/20\n",
      "\u001b[1m282/282\u001b[0m \u001b[32m━━━━━━━━━━━━━━━━━━━━\u001b[0m\u001b[37m\u001b[0m \u001b[1m0s\u001b[0m 665ms/step - accuracy: 0.5646 - loss: 1.0872\n",
      "Epoch 11: val_loss improved from 1.10322 to 1.01317, saving model to best_cnn_model.keras\n",
      "\u001b[1m282/282\u001b[0m \u001b[32m━━━━━━━━━━━━━━━━━━━━\u001b[0m\u001b[37m\u001b[0m \u001b[1m191s\u001b[0m 679ms/step - accuracy: 0.5646 - loss: 1.0872 - val_accuracy: 0.6130 - val_loss: 1.0132\n",
      "Epoch 12/20\n",
      "\u001b[1m282/282\u001b[0m \u001b[32m━━━━━━━━━━━━━━━━━━━━\u001b[0m\u001b[37m\u001b[0m \u001b[1m0s\u001b[0m 539ms/step - accuracy: 0.5812 - loss: 1.0453\n",
      "Epoch 12: val_loss improved from 1.01317 to 1.00172, saving model to best_cnn_model.keras\n",
      "\u001b[1m282/282\u001b[0m \u001b[32m━━━━━━━━━━━━━━━━━━━━\u001b[0m\u001b[37m\u001b[0m \u001b[1m156s\u001b[0m 554ms/step - accuracy: 0.5812 - loss: 1.0453 - val_accuracy: 0.6085 - val_loss: 1.0017\n",
      "Epoch 13/20\n",
      "\u001b[1m282/282\u001b[0m \u001b[32m━━━━━━━━━━━━━━━━━━━━\u001b[0m\u001b[37m\u001b[0m \u001b[1m0s\u001b[0m 537ms/step - accuracy: 0.6038 - loss: 1.0200\n",
      "Epoch 13: val_loss improved from 1.00172 to 0.99671, saving model to best_cnn_model.keras\n",
      "\u001b[1m282/282\u001b[0m \u001b[32m━━━━━━━━━━━━━━━━━━━━\u001b[0m\u001b[37m\u001b[0m \u001b[1m155s\u001b[0m 550ms/step - accuracy: 0.6038 - loss: 1.0201 - val_accuracy: 0.6105 - val_loss: 0.9967\n",
      "Epoch 14/20\n",
      "\u001b[1m282/282\u001b[0m \u001b[32m━━━━━━━━━━━━━━━━━━━━\u001b[0m\u001b[37m\u001b[0m \u001b[1m0s\u001b[0m 535ms/step - accuracy: 0.6092 - loss: 1.0018\n",
      "Epoch 14: val_loss improved from 0.99671 to 0.95500, saving model to best_cnn_model.keras\n",
      "\u001b[1m282/282\u001b[0m \u001b[32m━━━━━━━━━━━━━━━━━━━━\u001b[0m\u001b[37m\u001b[0m \u001b[1m155s\u001b[0m 548ms/step - accuracy: 0.6092 - loss: 1.0018 - val_accuracy: 0.6295 - val_loss: 0.9550\n",
      "Epoch 15/20\n",
      "\u001b[1m282/282\u001b[0m \u001b[32m━━━━━━━━━━━━━━━━━━━━\u001b[0m\u001b[37m\u001b[0m \u001b[1m0s\u001b[0m 533ms/step - accuracy: 0.6331 - loss: 0.9691\n",
      "Epoch 15: val_loss improved from 0.95500 to 0.90458, saving model to best_cnn_model.keras\n",
      "\u001b[1m282/282\u001b[0m \u001b[32m━━━━━━━━━━━━━━━━━━━━\u001b[0m\u001b[37m\u001b[0m \u001b[1m154s\u001b[0m 547ms/step - accuracy: 0.6331 - loss: 0.9691 - val_accuracy: 0.6560 - val_loss: 0.9046\n",
      "Epoch 16/20\n",
      "\u001b[1m282/282\u001b[0m \u001b[32m━━━━━━━━━━━━━━━━━━━━\u001b[0m\u001b[37m\u001b[0m \u001b[1m0s\u001b[0m 537ms/step - accuracy: 0.6412 - loss: 0.9390\n",
      "Epoch 16: val_loss did not improve from 0.90458\n",
      "\u001b[1m282/282\u001b[0m \u001b[32m━━━━━━━━━━━━━━━━━━━━\u001b[0m\u001b[37m\u001b[0m \u001b[1m155s\u001b[0m 550ms/step - accuracy: 0.6412 - loss: 0.9390 - val_accuracy: 0.6495 - val_loss: 0.9176\n",
      "Epoch 17/20\n",
      "\u001b[1m282/282\u001b[0m \u001b[32m━━━━━━━━━━━━━━━━━━━━\u001b[0m\u001b[37m\u001b[0m \u001b[1m0s\u001b[0m 538ms/step - accuracy: 0.6473 - loss: 0.9257\n",
      "Epoch 17: val_loss did not improve from 0.90458\n",
      "\u001b[1m282/282\u001b[0m \u001b[32m━━━━━━━━━━━━━━━━━━━━\u001b[0m\u001b[37m\u001b[0m \u001b[1m155s\u001b[0m 551ms/step - accuracy: 0.6473 - loss: 0.9257 - val_accuracy: 0.6295 - val_loss: 0.9286\n",
      "Epoch 18/20\n",
      "\u001b[1m282/282\u001b[0m \u001b[32m━━━━━━━━━━━━━━━━━━━━\u001b[0m\u001b[37m\u001b[0m \u001b[1m0s\u001b[0m 531ms/step - accuracy: 0.6628 - loss: 0.8979\n",
      "Epoch 18: val_loss did not improve from 0.90458\n",
      "\u001b[1m282/282\u001b[0m \u001b[32m━━━━━━━━━━━━━━━━━━━━\u001b[0m\u001b[37m\u001b[0m \u001b[1m154s\u001b[0m 544ms/step - accuracy: 0.6628 - loss: 0.8979 - val_accuracy: 0.6495 - val_loss: 0.9298\n",
      "Epoch 19/20\n",
      "\u001b[1m282/282\u001b[0m \u001b[32m━━━━━━━━━━━━━━━━━━━━\u001b[0m\u001b[37m\u001b[0m \u001b[1m0s\u001b[0m 533ms/step - accuracy: 0.6807 - loss: 0.8671\n",
      "Epoch 19: val_loss improved from 0.90458 to 0.88964, saving model to best_cnn_model.keras\n",
      "\u001b[1m282/282\u001b[0m \u001b[32m━━━━━━━━━━━━━━━━━━━━\u001b[0m\u001b[37m\u001b[0m \u001b[1m154s\u001b[0m 547ms/step - accuracy: 0.6807 - loss: 0.8671 - val_accuracy: 0.6680 - val_loss: 0.8896\n",
      "Epoch 20/20\n",
      "\u001b[1m282/282\u001b[0m \u001b[32m━━━━━━━━━━━━━━━━━━━━\u001b[0m\u001b[37m\u001b[0m \u001b[1m0s\u001b[0m 537ms/step - accuracy: 0.6754 - loss: 0.8656\n",
      "Epoch 20: val_loss did not improve from 0.88964\n",
      "\u001b[1m282/282\u001b[0m \u001b[32m━━━━━━━━━━━━━━━━━━━━\u001b[0m\u001b[37m\u001b[0m \u001b[1m155s\u001b[0m 551ms/step - accuracy: 0.6754 - loss: 0.8656 - val_accuracy: 0.6680 - val_loss: 0.8916\n"
     ]
    }
   ],
   "source": [
    "#Saves the Best Model Based on Val Loss\n",
    "checkpoint = ModelCheckpoint('best_cnn_model.keras', verbose=1, monitor='val_loss', save_best_only=True, mode='auto')\n",
    "# compliling the model with adam optimixer and categorical crossentropy loss\n",
    "cnn_model.compile(loss=categorical_crossentropy, optimizer=Adam(learning_rate=0.001, beta_1=0.9, beta_2=0.999), metrics=['accuracy'])\n",
    "\n",
    "# training the model\n",
    "cnn_history = cnn_model.fit(X_train_cnn, y_train, batch_size=batch_size, epochs=epochs, verbose=1, \n",
    "                            callbacks=[checkpoint], validation_data=(X_test_cnn, y_test), shuffle=True)"
   ]
  },
  {
   "cell_type": "code",
   "execution_count": 13,
   "metadata": {},
   "outputs": [
    {
     "name": "stdout",
     "output_type": "stream",
     "text": [
      "\u001b[1m32/32\u001b[0m \u001b[32m━━━━━━━━━━━━━━━━━━━━\u001b[0m\u001b[37m\u001b[0m \u001b[1m4s\u001b[0m 115ms/step - accuracy: 0.6606 - loss: 0.8916\n"
     ]
    }
   ],
   "source": [
    "cnn_performance = cnn_model.evaluate(X_test_cnn, y_test, batch_size=64)"
   ]
  },
  {
   "cell_type": "code",
   "execution_count": 14,
   "metadata": {},
   "outputs": [
    {
     "data": {
      "image/png": "[encoded data removed]",
      "text/plain": [
       "<Figure size 1000x400 with 2 Axes>"
      ]
     },
     "metadata": {},
     "output_type": "display_data"
    }
   ],
   "source": [
    "plot_graphs(cnn_history, cnn_performance)"
   ]
  },
  {
   "cell_type": "code",
   "execution_count": null,
   "metadata": {},
   "outputs": [],
   "source": []
  }
 ],
 "metadata": {
  "kernelspec": {
   "display_name": "Python 3",
   "language": "python",
   "name": "python3"
  },
  "language_info": {
   "codemirror_mode": {
    "name": "ipython",
    "version": 3
   },
   "file_extension": ".py",
   "mimetype": "text/x-python",
   "name": "python",
   "nbconvert_exporter": "python",
   "pygments_lexer": "ipython3",
   "version": "3.12.3"
  }
 },
 "nbformat": 4,
 "nbformat_minor": 2
}
